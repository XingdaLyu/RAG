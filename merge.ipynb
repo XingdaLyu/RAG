{
 "cells": [
  {
   "cell_type": "code",
   "execution_count": 1,
   "id": "90d6b91c-10f9-409d-bc47-f51b5f1dab9c",
   "metadata": {},
   "outputs": [],
   "source": [
    "import json"
   ]
  },
  {
   "cell_type": "code",
   "execution_count": 10,
   "id": "ca16da35-210a-4a19-ba5b-1730c89e7d53",
   "metadata": {},
   "outputs": [],
   "source": [
    "json_files = [\"pubmed_qa_val_300.json\", \"pubmed_qa_val_600.json\"]\n",
    "\n",
    "data_aug = []\n",
    "\n",
    "for json_file in json_files:\n",
    "    with open(json_file, \"r\") as file:\n",
    "        for q in json.load(file):\n",
    "            q[\"passages\"].extend([aug[\"llama3.2-1b-instruct_rewrite\"] for aug in q[\"augment\"]])\n",
    "            data_aug.append(q)\n",
    "        \n",
    "with open(\"pub_med_qa_val_merge_105.json\", \"w\") as fout:\n",
    "    json.dump(data_aug, fout, indent=4)"
   ]
  },
  {
   "cell_type": "code",
   "execution_count": 11,
   "id": "55900272-356e-4dcd-ae7e-3a1455e806f8",
   "metadata": {},
   "outputs": [],
   "source": [
    "# with open(\"pub_med_qa_val_merge_1.json\", \"w\") as fout:\n",
    "#     json.dump(data_aug[:1], fout, indent=4)"
   ]
  },
  {
   "cell_type": "code",
   "execution_count": 14,
   "id": "f848c9e5-8cf4-48ec-b7c3-7a2fe03ea213",
   "metadata": {},
   "outputs": [],
   "source": [
    "from datasets import load_dataset\n",
    "dataset = load_dataset('bigbio/pubmed_qa')"
   ]
  },
  {
   "cell_type": "code",
   "execution_count": 16,
   "id": "7b480b50-43e3-474b-a4d2-6e48006311ee",
   "metadata": {},
   "outputs": [
    {
     "data": {
      "text/plain": [
       "Dataset({\n",
       "    features: ['QUESTION', 'CONTEXTS', 'LABELS', 'MESHES', 'YEAR', 'reasoning_required_pred', 'reasoning_free_pred', 'final_decision', 'LONG_ANSWER'],\n",
       "    num_rows: 200000\n",
       "})"
      ]
     },
     "execution_count": 16,
     "metadata": {},
     "output_type": "execute_result"
    }
   ],
   "source": [
    "dataset['train']"
   ]
  },
  {
   "cell_type": "code",
   "execution_count": 18,
   "id": "6566d7e5-a82a-45e9-a530-71027d2ec178",
   "metadata": {},
   "outputs": [],
   "source": [
    "final_decision = []\n",
    "for i in range(8):\n",
    "    qa = dataset['train'][i]\n",
    "    final_decision.append({\"question\": qa[\"QUESTION\"], \"answer\": qa[\"final_decision\"]})\n",
    "with open(\"pubmedqaval.json\", \"w\") as file:\n",
    "    json.dump(final_decision, file)"
   ]
  },
  {
   "cell_type": "code",
   "execution_count": null,
   "id": "d89bdabe-1261-41f8-8564-9836f9ae912b",
   "metadata": {},
   "outputs": [],
   "source": []
  }
 ],
 "metadata": {
  "kernelspec": {
   "display_name": "Python 3 (ipykernel)",
   "language": "python",
   "name": "python3"
  },
  "language_info": {
   "codemirror_mode": {
    "name": "ipython",
    "version": 3
   },
   "file_extension": ".py",
   "mimetype": "text/x-python",
   "name": "python",
   "nbconvert_exporter": "python",
   "pygments_lexer": "ipython3",
   "version": "3.10.13"
  }
 },
 "nbformat": 4,
 "nbformat_minor": 5
}
